{
 "cells": [
  {
   "cell_type": "markdown",
   "metadata": {},
   "source": [
    "# Reorder List - Leetcode 143 Reverse a Linked List\n"
   ]
  },
  {
   "cell_type": "markdown",
   "metadata": {},
   "source": [
    "## 1->2->3->4====> 1->4->2->3"
   ]
  },
  {
   "cell_type": "code",
   "execution_count": 28,
   "metadata": {},
   "outputs": [],
   "source": [
    "from typing import Optional"
   ]
  },
  {
   "cell_type": "code",
   "execution_count": 34,
   "metadata": {},
   "outputs": [],
   "source": [
    "# Definition for singly-linked list.\n",
    "class ListNode:\n",
    "    def __init__(self, val=0, next=None):\n",
    "        self.val = val\n",
    "        self.next = next\n",
    "\n",
    "def create_linked_list(arr):\n",
    "    \"\"\"Convert the array into List Node\"\"\"\n",
    "    if not arr:\n",
    "        return None  # Return None for an empty array\n",
    "    head = ListNode(arr[0])  # Create the head node\n",
    "    current = head\n",
    "    for val in arr[1:]:\n",
    "        current.next = ListNode(val)  # Create a new node and link it\n",
    "        current = current.next  # Move to the next node\n",
    "    return head"
   ]
  },
  {
   "cell_type": "code",
   "execution_count": 35,
   "metadata": {},
   "outputs": [],
   "source": [
    "# Function to print all nodes in a linked list\n",
    "def print_linked_list(head):\n",
    "    \"\"\"Print the Linked List\"\"\"\n",
    "    current = head\n",
    "    while current:\n",
    "        print(current.val, end=\" -> \")\n",
    "        current = current.next\n",
    "    print(\"None\")  # Indicate the end of the list"
   ]
  },
  {
   "cell_type": "code",
   "execution_count": 36,
   "metadata": {},
   "outputs": [],
   "source": [
    "def linked_list_to_array(head):\n",
    "    \"\"\"Convert the list node to array\"\"\"\n",
    "    result = []\n",
    "    current = head\n",
    "    while current:\n",
    "        result.append(current.val)  # Append the current node's value to the array\n",
    "        current = current.next  # Move to the next node\n",
    "    return result"
   ]
  },
  {
   "cell_type": "code",
   "execution_count": 31,
   "metadata": {},
   "outputs": [],
   "source": [
    "class Solution:\n",
    "    def reorderList(head: Optional[ListNode]) -> None:\n",
    "        #find middle\n",
    "        slow, fast=head, head.next\n",
    "        while fast and fast.next:\n",
    "            slow = slow.next\n",
    "            fast = fast.next.next\n",
    "        \n",
    "        # reverse second list\n",
    "        second = slow.next\n",
    "        prev = slow.next = None\n",
    "        while second:\n",
    "            temp= second.next\n",
    "            second.next=prev\n",
    "            prev=second\n",
    "            second=temp\n",
    "        \n",
    "        #merge two halfs\n",
    "        first, second = head, prev\n",
    "        while second:\n",
    "            temp1, temp2 = first.next, second.next\n",
    "            first.next = second\n",
    "            second.next= temp1\n",
    "            first,second= temp1, temp2\n",
    "        "
   ]
  },
  {
   "cell_type": "code",
   "execution_count": 32,
   "metadata": {},
   "outputs": [],
   "source": [
    "head=[2,4,6,8]\n",
    "head_list = create_linked_list(head)\n",
    "\n",
    "sol=Solution\n",
    "sol.reorderList(head_list)"
   ]
  },
  {
   "cell_type": "code",
   "execution_count": 37,
   "metadata": {},
   "outputs": [
    {
     "data": {
      "text/plain": [
       "[2, 8, 4, 6]"
      ]
     },
     "execution_count": 37,
     "metadata": {},
     "output_type": "execute_result"
    }
   ],
   "source": [
    "outp=linked_list_to_array(head_list)\n",
    "outp"
   ]
  },
  {
   "cell_type": "code",
   "execution_count": 33,
   "metadata": {},
   "outputs": [
    {
     "name": "stdout",
     "output_type": "stream",
     "text": [
      "2 -> 8 -> 4 -> 6 -> None\n"
     ]
    }
   ],
   "source": [
    "print_linked_list(head_list)"
   ]
  },
  {
   "cell_type": "markdown",
   "metadata": {},
   "source": [
    "# Reverse Linked List - Iterative AND Recursive - Leetcode 206 - Python"
   ]
  },
  {
   "cell_type": "code",
   "execution_count": 57,
   "metadata": {},
   "outputs": [],
   "source": [
    "class Solution206:\n",
    "    def reverseList(self, head:ListNode) -> ListNode:\n",
    "        \n",
    "        if not head:\n",
    "            return None\n",
    "        \n",
    "        new_head = head\n",
    "        if head.next:\n",
    "            print(head.next.val)\n",
    "            new_head = self.reverseList(head.next)\n",
    "            print(new_head.val)\n",
    "            head.next.next=head\n",
    "            \n",
    "        head.next= None\n",
    "        return new_head\n",
    "        "
   ]
  },
  {
   "cell_type": "code",
   "execution_count": 58,
   "metadata": {},
   "outputs": [
    {
     "name": "stdout",
     "output_type": "stream",
     "text": [
      "1\n",
      "2\n",
      "3\n",
      "3\n",
      "3\n",
      "3\n"
     ]
    }
   ],
   "source": [
    "input_head_206 = create_linked_list([0,1,2,3])\n",
    "expected_output_206= Solution206().reverseList(input_head_206)\n",
    "\n",
    "output_206= [3,2,1,0]"
   ]
  },
  {
   "cell_type": "code",
   "execution_count": 53,
   "metadata": {},
   "outputs": [
    {
     "data": {
      "text/plain": [
       "<__main__.ListNode at 0x1fbd52a6720>"
      ]
     },
     "execution_count": 53,
     "metadata": {},
     "output_type": "execute_result"
    }
   ],
   "source": [
    "expected_output_206"
   ]
  },
  {
   "cell_type": "code",
   "execution_count": 54,
   "metadata": {},
   "outputs": [],
   "source": [
    "outp_206=linked_list_to_array(expected_output_206)\n",
    "assert outp_206 == output_206,f'Arrays do not match'"
   ]
  },
  {
   "cell_type": "markdown",
   "metadata": {},
   "source": [
    "# Remove Linked List Elements - Leetcode 203"
   ]
  },
  {
   "cell_type": "code",
   "execution_count": 59,
   "metadata": {},
   "outputs": [],
   "source": [
    "class Solution203:\n",
    "    def removeElements(self, head: ListNode, val: int)->ListNode:\n",
    "        dummy = ListNode(next=head)\n",
    "        prev, curr = dummy, head\n",
    "        \n",
    "        while curr:\n",
    "            nxt = curr.next\n",
    "            if curr.val == val:\n",
    "                #found\n",
    "                prev.next = nxt\n",
    "            else:\n",
    "                prev = curr\n",
    "            \n",
    "            curr = nxt\n",
    "        return dummy.next\n"
   ]
  },
  {
   "cell_type": "code",
   "execution_count": 62,
   "metadata": {},
   "outputs": [],
   "source": [
    "head_203 = [1,2,6,3,4,5,6]\n",
    "val = 6\n",
    "output_203 =[1,2,3,4,5]"
   ]
  },
  {
   "cell_type": "code",
   "execution_count": 64,
   "metadata": {},
   "outputs": [],
   "source": [
    "expected_203 = linked_list_to_array( Solution203().removeElements(create_linked_list(head_203),6))"
   ]
  },
  {
   "cell_type": "code",
   "execution_count": 65,
   "metadata": {},
   "outputs": [
    {
     "data": {
      "text/plain": [
       "[1, 2, 3, 4, 5]"
      ]
     },
     "metadata": {},
     "output_type": "display_data"
    }
   ],
   "source": [
    "display(expected_203)"
   ]
  },
  {
   "cell_type": "code",
   "execution_count": 66,
   "metadata": {},
   "outputs": [],
   "source": [
    "assert output_203 == expected_203, f'Output are not equal'"
   ]
  },
  {
   "cell_type": "markdown",
   "metadata": {},
   "source": [
    "# Palindrome Linked List - Leetcode 234 - Python\n"
   ]
  },
  {
   "cell_type": "markdown",
   "metadata": {},
   "source": []
  },
  {
   "cell_type": "code",
   "execution_count": 68,
   "metadata": {},
   "outputs": [],
   "source": [
    "head_234 = [1,2,2,1]\n",
    "output_234= True"
   ]
  },
  {
   "cell_type": "code",
   "execution_count": 75,
   "metadata": {},
   "outputs": [],
   "source": [
    "class Solution234:\n",
    "    def isPalindrome(self, head: Optional[ListNode]) -> bool:\n",
    "        nums = []\n",
    "        while head:\n",
    "            nums.append(head.val)\n",
    "            head = head.next\n",
    "            \n",
    "        left, right =0, len(nums)-1\n",
    "        while left < right:\n",
    "            if nums[left] != nums[right]:\n",
    "                return False\n",
    "            left += 1\n",
    "            right -=1\n",
    "            \n",
    "        return True\n",
    "    \n",
    "    def isPalindrome_two_pointers(self, head: Optional[ListNode]) -> bool:\n",
    "        fast = head\n",
    "        slow = head\n",
    "        \n",
    "        #find the middle (slow)\n",
    "        while fast and fast.next:\n",
    "            fast = fast.next\n",
    "            fast = fast.next\n",
    "            slow = slow.next\n",
    "        \n",
    "        #reverse the second half\n",
    "        prev = None\n",
    "        while slow:\n",
    "            temp = slow.next\n",
    "            slow.next = prev\n",
    "            prev = slow\n",
    "            slow = temp\n",
    "        \n",
    "        #comparision bet two halfs\n",
    "        left, right = head, prev\n",
    "        while right:\n",
    "            if right.val != left.val:\n",
    "                return False\n",
    "            right=right.next\n",
    "            left=left.next\n",
    "        \n",
    "        return True\n",
    "            "
   ]
  },
  {
   "cell_type": "code",
   "execution_count": 74,
   "metadata": {},
   "outputs": [],
   "source": [
    "expected_234=Solution234().isPalindrome(create_linked_list(head_234))\n",
    "assert expected_234,f'assert failed for palindrome'"
   ]
  },
  {
   "cell_type": "code",
   "execution_count": 76,
   "metadata": {},
   "outputs": [],
   "source": [
    "expected_234=Solution234().isPalindrome_two_pointers(create_linked_list(head_234))\n",
    "assert expected_234,f'assert failed for palindrome'"
   ]
  },
  {
   "cell_type": "code",
   "execution_count": null,
   "metadata": {},
   "outputs": [],
   "source": []
  }
 ],
 "metadata": {
  "kernelspec": {
   "display_name": "Python 3",
   "language": "python",
   "name": "python3"
  },
  "language_info": {
   "codemirror_mode": {
    "name": "ipython",
    "version": 3
   },
   "file_extension": ".py",
   "mimetype": "text/x-python",
   "name": "python",
   "nbconvert_exporter": "python",
   "pygments_lexer": "ipython3",
   "version": "3.12.7"
  }
 },
 "nbformat": 4,
 "nbformat_minor": 2
}
